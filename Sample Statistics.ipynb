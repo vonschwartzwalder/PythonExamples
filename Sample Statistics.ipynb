{
 "cells": [
  {
   "cell_type": "markdown",
   "metadata": {},
   "source": [
    "# Statistics\n",
    "A collection of formulas and methods for statistical analysis."
   ]
  },
  {
   "cell_type": "markdown",
   "metadata": {},
   "source": [
    "## Z table\n",
    "\n",
    "Use the Z table if you know the population standard deviation. You almost never do, so this is an abreviated table. The T table below also contains Z values.\n",
    "\n",
    "| $\\%\\ Confidence$ | $Z_\\alpha$ | $Z_{\\alpha/2}$ |\n",
    "| ---- | ---- | ---- |\n",
    "| 99.9 | 3.09 | 3.29 |\n",
    "| 99.0 | 2.33 | 2.58 |\n",
    "| 0.98 |  -   | 2.33 |\n",
    "| 0.96 |  -   | 2.05 |\n",
    "| 95.0 | 1.64 | 1.96 |\n",
    "| 0.92 |  -   | 1.75 |\n",
    "| 90.0 | 1.28 | 1.64 |\n",
    "| 0.85 |  -   | 1.44 |\n",
    "| 0.80 |  -   | 1.28 |\n",
    "| 0.75 |  -   | 1.15 |\n",
    "| 0.70 |  -   | 1.04 |"
   ]
  },
  {
   "cell_type": "markdown",
   "metadata": {},
   "source": [
    "## T table\n",
    "\n",
    "Use the T table if you only know the sample standard deviation. In the equations that follow, you can replace the Z value with the appropriate t value.\n",
    "\n",
    "![t table](t-table.pdf)"
   ]
  },
  {
   "cell_type": "markdown",
   "metadata": {},
   "source": [
    "Confidence Interval\n",
    "====\n",
    "\n",
    "Given a sample of data, it is instructive to estimate the population mean and the confidence level around that mean. In particular we would like to write something like: \n",
    "\n",
    "*The population mean of the data falls between $i_1$ & $i_2$ with a confidence of 95%.*  \n",
    "\n",
    "This is easily calculated given a formula that looks like this:\n",
    "\n",
    "$$ \\mu = \\overline{x} \\pm t^* \\cdot \\frac{s}{\\sqrt{n}}$$\n",
    "\n",
    "or\n",
    "\n",
    "$$ \\mu = \\overline{x} \\pm z \\cdot \\frac{\\sigma}{\\sqrt{n}} $$  \n",
    "\n",
    "where:  \n",
    "$\\mu$ is the estimated population mean  \n",
    "$\\overline{x}$ is the sample mean  \n",
    "$t^*$ is from Students t distribution for the desired confidence level when we know the sample standard deviation ($n < 30$)  \n",
    "$s$ is sample standard deviation  \n",
    "$z$ is the z score for the desired confidence level when we know the population standard deviation ($n \\ge 30$)  \n",
    "$\\sigma$ is population standard deviation  \n",
    "$n$ is the number of samples  "
   ]
  },
  {
   "cell_type": "markdown",
   "metadata": {},
   "source": [
    "### Examples"
   ]
  },
  {
   "cell_type": "code",
   "execution_count": 1,
   "metadata": {},
   "outputs": [],
   "source": [
    "import numpy as np\n",
    "import scipy.stats as st\n",
    "import math\n",
    "import random\n",
    "import statistics\n",
    "import matplotlib.pyplot as plt\n",
    "import seaborn as sb"
   ]
  },
  {
   "cell_type": "code",
   "execution_count": 2,
   "metadata": {},
   "outputs": [
    {
     "name": "stdout",
     "output_type": "stream",
     "text": [
      "T: the population mean lies between 1.955 and 2.111 with 95.0% confidence.\n",
      "Z: the population mean lies between 1.958 and 2.107 with 95.0% confidence.\n"
     ]
    }
   ],
   "source": [
    "# input parameters: change these to explore different scenarios\n",
    "n = 30\n",
    "confidence = 0.95\n",
    "\n",
    "# create some random data\n",
    "#   normal distribution, mean = 2, std = 0.2\n",
    "data = st.norm.rvs(loc=2, scale=0.2, size=n)\n",
    "\n",
    "# calculate statistics\n",
    "sampleMean = data.mean()\n",
    "sampleStandardDeviation = data.std()\n",
    "standardErrorOfMean = st.sem(data)\n",
    "\n",
    "# calculate interval\n",
    "#   use Student's t distribution\n",
    "#   use z score\n",
    "TestimatedPopulationMean = st.t.interval(   confidence, len(data)-1, loc=sampleMean, scale=standardErrorOfMean)\n",
    "ZestimatedPopulationMean = st.norm.interval(confidence,              loc=sampleMean, scale=standardErrorOfMean)\n",
    "\n",
    "# print results\n",
    "lower = round(TestimatedPopulationMean[0],3)\n",
    "upper = round(TestimatedPopulationMean[1],3)\n",
    "print(f'T: the population mean lies between {lower} and {upper} with {confidence*100}% confidence.')\n",
    "\n",
    "lower = round(ZestimatedPopulationMean[0],3)\n",
    "upper = round(ZestimatedPopulationMean[1],3)\n",
    "print(f'Z: the population mean lies between {lower} and {upper} with {confidence*100}% confidence.')\n",
    "\n",
    "# TODO: build a table of results\n",
    "#   T and Z intervals by N, from 1 to 1000"
   ]
  },
  {
   "cell_type": "code",
   "execution_count": 3,
   "metadata": {},
   "outputs": [
    {
     "name": "stdout",
     "output_type": "stream",
     "text": [
      "T: the population mean lies between 1.88 and 2.045 with 95.0% confidence.\n",
      "Z: the population mean lies between 1.884 and 2.041 with 95.0% confidence.\n"
     ]
    }
   ],
   "source": [
    "# same as above but without numpy\n",
    "\n",
    "# input parameters: change these to explore different scenarios\n",
    "n = 30\n",
    "confidence = 0.95\n",
    "\n",
    "# create some random data\n",
    "#   normal distribution, mean = 2, std = 0.2\n",
    "data = [random.normalvariate(2, 0.2) for i in range(n)]\n",
    "\n",
    "# calculate statistics\n",
    "mean = statistics.mean(data)\n",
    "std = statistics.stdev(data)\n",
    "sem = std/math.sqrt(n-1)\n",
    "\n",
    "# calculate interval\n",
    "#   use Student's t distribution\n",
    "#   use z score\n",
    "Tint = (mean - 2.042 * sem, mean + 2.042 * sem)\n",
    "Zint = (mean - 1.96 * sem, mean + 1.96 * sem)\n",
    "\n",
    "# print results\n",
    "lower = round(Tint[0],3)\n",
    "upper = round(Tint[1],3)\n",
    "print(f'T: the population mean lies between {lower} and {upper} with {confidence*100}% confidence.')\n",
    "\n",
    "lower = round(Zint[0],3)\n",
    "upper = round(Zint[1],3)\n",
    "print(f'Z: the population mean lies between {lower} and {upper} with {confidence*100}% confidence.')"
   ]
  },
  {
   "cell_type": "markdown",
   "metadata": {},
   "source": [
    "## Mean Confidence Interval\n",
    "This is widely used, setting Z to 1.96 for 95% confidence.\n",
    "\n",
    "$\\mu = \\bar{x} \\pm Z_{\\alpha/2} \\cdot \\frac{s}{\\sqrt{N}}$  \n",
    "\n",
    "$\\bar{x} = sample\\ average$  \n",
    "$s = sample\\ standard\\ deviation$  \n",
    "$N = number\\ of\\ observations$  "
   ]
  },
  {
   "cell_type": "markdown",
   "metadata": {},
   "source": [
    "## Standard Deviation Confidence Interval\n",
    "\n",
    "### Lower Limit\n",
    "$\\sigma = s\\sqrt{\\frac{N-1}{InverseChi(\\alpha/2, N-1)}}$\n",
    "\n",
    "### Upper Limit\n",
    "$\\sigma = s\\sqrt{\\frac{N-1}{InverseChi(1-(\\alpha/2), N-1)}}$\n",
    "\n",
    "$\\alpha\\ is\\ the\\ confidence$"
   ]
  },
  {
   "cell_type": "markdown",
   "metadata": {},
   "source": [
    "## CV Confidence Interval\n",
    "$CV \\pm Z_{\\alpha/2} \\cdot \\frac{CV}{\\sqrt{2N}}$"
   ]
  },
  {
   "cell_type": "markdown",
   "metadata": {},
   "source": [
    "## Cpk Confidence Interval\n",
    "\n",
    "$C_{pk} \\pm Z_{\\alpha/2} \\sqrt{\\frac{1}{9N}+\\frac{C_{pk}^2}{2N-2}}$"
   ]
  },
  {
   "cell_type": "markdown",
   "metadata": {},
   "source": [
    "## Cpk Lower Confidence Limit\n",
    "\n",
    "$C_{pk} - Z_{\\alpha} \\sqrt{\\frac{1}{9N}+\\frac{C_{pk}^2}{2N-2}}$"
   ]
  },
  {
   "cell_type": "markdown",
   "metadata": {},
   "source": [
    "# Sample Size\n",
    "$N = (\\frac{Z_{\\alpha/2} \\cdot s}{\\Delta})^2$  \n",
    "\n",
    "\n",
    "$N = (\\frac{1.96 \\cdot s}{\\Delta})^2$  \n",
    "\n",
    "$s = standard\\ deviation$  \n",
    "$1.96 = 95\\%\\ confidence$  \n",
    "$\\Delta = difference\\ to\\ detect$  \n",
    "\n",
    "#### Sample Size with Reliability\n",
    "$N = \\frac{\\ln (1-Confidence)}{\\ln (Reliability)}$  \n",
    "\n",
    "$Reliability = 1 - RQL$\n",
    "\n",
    "#### Reliability of a Sample Size\n",
    "$Reliability = (1-Confidence)^{\\frac{1}{N}}$  \n",
    "\n",
    "#### Examples  \n",
    "\n",
    "##### How many samples to get 95% confidence and an RQL of 0.65%?"
   ]
  },
  {
   "cell_type": "code",
   "execution_count": 4,
   "metadata": {},
   "outputs": [
    {
     "name": "stdout",
     "output_type": "stream",
     "text": [
      "You need 460 passing samples for 95% confidence and 99% reliability\n"
     ]
    }
   ],
   "source": [
    "# confidence\n",
    "c = 0.95\n",
    "\n",
    "# RQL\n",
    "rql = 0.0065\n",
    "\n",
    "# reliability\n",
    "r = 1-rql\n",
    "\n",
    "N = math.ceil(math.log(1-c)/math.log(r))\n",
    "\n",
    "print(f'You need {round(N)} passing samples for {round(c*100)}% confidence and {round(r*100)}% reliability')"
   ]
  },
  {
   "cell_type": "markdown",
   "metadata": {},
   "source": [
    "##### What is the reliability of 460 samples with a confidence of 95%?"
   ]
  },
  {
   "cell_type": "code",
   "execution_count": 5,
   "metadata": {},
   "outputs": [
    {
     "name": "stdout",
     "output_type": "stream",
     "text": [
      "With 460 passing samples you are 95% confident and 99% reliable, RQL = 0.65%\n"
     ]
    }
   ],
   "source": [
    "# number of samples\n",
    "N = 460\n",
    "\n",
    "# confidence\n",
    "c = 0.95\n",
    "\n",
    "r = (1-c)**(1/N)\n",
    "rql = 1-r\n",
    "\n",
    "print(f'With {round(N)} passing samples you are {round(c*100)}% confident and {round(r*100)}% reliable, RQL = {round(rql*100,2)}%')"
   ]
  },
  {
   "cell_type": "markdown",
   "metadata": {},
   "source": [
    "## Continuous Data\n",
    "\n",
    "$N = (\\frac{Z \\cdot s}{D})^2$"
   ]
  },
  {
   "cell_type": "code",
   "execution_count": 6,
   "metadata": {},
   "outputs": [
    {
     "name": "stdout",
     "output_type": "stream",
     "text": [
      "N = 289 for continuous data\n"
     ]
    }
   ],
   "source": [
    "z = 1.96 # 95% confidence\n",
    "s = 0.26 # sample standard deviation\n",
    "D = 0.03 # difference to detect\n",
    "\n",
    "N = ((z * s)/D)**2\n",
    "print(f'N = {round(N)} for continuous data')"
   ]
  },
  {
   "cell_type": "markdown",
   "metadata": {},
   "source": [
    "## Discrete Data"
   ]
  },
  {
   "cell_type": "code",
   "execution_count": 7,
   "metadata": {},
   "outputs": [
    {
     "name": "stdout",
     "output_type": "stream",
     "text": [
      "N = 384 for discrete data\n"
     ]
    }
   ],
   "source": [
    "z = 1.96\n",
    "p = 0.90\n",
    "D = 0.03\n",
    "\n",
    "N = ((z)/D)**2 * p * (1-p)\n",
    "print(f'N = {round(N)} for discrete data')"
   ]
  },
  {
   "cell_type": "markdown",
   "metadata": {},
   "source": [
    "## Effect of sample size on confidence inverval"
   ]
  },
  {
   "cell_type": "code",
   "execution_count": 8,
   "metadata": {
    "collapsed": true,
    "jupyter": {
     "outputs_hidden": true
    }
   },
   "outputs": [
    {
     "data": {
      "image/png": "[encoded data removed]",
      "text/plain": [
       "<Figure size 432x288 with 1 Axes>"
      ]
     },
     "metadata": {
      "needs_background": "light"
     },
     "output_type": "display_data"
    }
   ],
   "source": [
    "number_samples = 100\n",
    "m = 0\n",
    "s = 1\n",
    "samples = [random.normalvariate(m, s) for i in range(number_samples)]\n",
    "samples_df = pd.DataFrame(samples)\n",
    "samples_df.hist();"
   ]
  },
  {
   "cell_type": "code",
   "execution_count": 9,
   "metadata": {
    "collapsed": true,
    "jupyter": {
     "outputs_hidden": true,
     "source_hidden": true
    }
   },
   "outputs": [
    {
     "name": "stdout",
     "output_type": "stream",
     "text": [
      "data has a mean of 0.14 and standard deviation of 1.06\n"
     ]
    }
   ],
   "source": [
    "print(f'data has a mean of {round(samples_df[0].mean(),2)} and standard deviation of {round(samples_df[0].std(),2)}')"
   ]
  },
  {
   "cell_type": "code",
   "execution_count": 10,
   "metadata": {
    "jupyter": {
     "source_hidden": true
    }
   },
   "outputs": [
    {
     "data": {
      "image/png": "[encoded data removed]",
      "text/plain": [
       "<Figure size 432x288 with 1 Axes>"
      ]
     },
     "metadata": {
      "needs_background": "light"
     },
     "output_type": "display_data"
    }
   ],
   "source": [
    "sb.distplot(samples, fit=st.norm, kde=False);"
   ]
  },
  {
   "cell_type": "code",
   "execution_count": 11,
   "metadata": {
    "collapsed": true,
    "jupyter": {
     "outputs_hidden": true,
     "source_hidden": true
    }
   },
   "outputs": [
    {
     "data": {
      "text/html": [
       "<div>\n",
       "<style scoped>\n",
       "    .dataframe tbody tr th:only-of-type {\n",
       "        vertical-align: middle;\n",
       "    }\n",
       "\n",
       "    .dataframe tbody tr th {\n",
       "        vertical-align: top;\n",
       "    }\n",
       "\n",
       "    .dataframe thead th {\n",
       "        text-align: right;\n",
       "    }\n",
       "</style>\n",
       "<table border=\"1\" class=\"dataframe\">\n",
       "  <thead>\n",
       "    <tr style=\"text-align: right;\">\n",
       "      <th></th>\n",
       "      <th>samples</th>\n",
       "      <th>mean</th>\n",
       "      <th>std</th>\n",
       "      <th>window</th>\n",
       "      <th>interval</th>\n",
       "    </tr>\n",
       "  </thead>\n",
       "  <tbody>\n",
       "    <tr>\n",
       "      <th>0</th>\n",
       "      <td>2.0</td>\n",
       "      <td>0.849838</td>\n",
       "      <td>0.165686</td>\n",
       "      <td>NaN</td>\n",
       "      <td>1.385929</td>\n",
       "    </tr>\n",
       "    <tr>\n",
       "      <th>1</th>\n",
       "      <td>3.0</td>\n",
       "      <td>-0.271426</td>\n",
       "      <td>1.042374</td>\n",
       "      <td>NaN</td>\n",
       "      <td>1.131607</td>\n",
       "    </tr>\n",
       "    <tr>\n",
       "      <th>2</th>\n",
       "      <td>4.0</td>\n",
       "      <td>-0.267419</td>\n",
       "      <td>0.785344</td>\n",
       "      <td>NaN</td>\n",
       "      <td>0.980000</td>\n",
       "    </tr>\n",
       "    <tr>\n",
       "      <th>3</th>\n",
       "      <td>5.0</td>\n",
       "      <td>0.144391</td>\n",
       "      <td>0.698040</td>\n",
       "      <td>NaN</td>\n",
       "      <td>0.876539</td>\n",
       "    </tr>\n",
       "    <tr>\n",
       "      <th>4</th>\n",
       "      <td>6.0</td>\n",
       "      <td>-0.020764</td>\n",
       "      <td>0.517904</td>\n",
       "      <td>NaN</td>\n",
       "      <td>0.800167</td>\n",
       "    </tr>\n",
       "    <tr>\n",
       "      <th>...</th>\n",
       "      <td>...</td>\n",
       "      <td>...</td>\n",
       "      <td>...</td>\n",
       "      <td>...</td>\n",
       "      <td>...</td>\n",
       "    </tr>\n",
       "    <tr>\n",
       "      <th>93</th>\n",
       "      <td>95.0</td>\n",
       "      <td>-0.164567</td>\n",
       "      <td>0.971910</td>\n",
       "      <td>NaN</td>\n",
       "      <td>0.201092</td>\n",
       "    </tr>\n",
       "    <tr>\n",
       "      <th>94</th>\n",
       "      <td>96.0</td>\n",
       "      <td>-0.185033</td>\n",
       "      <td>0.994274</td>\n",
       "      <td>NaN</td>\n",
       "      <td>0.200042</td>\n",
       "    </tr>\n",
       "    <tr>\n",
       "      <th>95</th>\n",
       "      <td>97.0</td>\n",
       "      <td>0.136731</td>\n",
       "      <td>0.986433</td>\n",
       "      <td>NaN</td>\n",
       "      <td>0.199008</td>\n",
       "    </tr>\n",
       "    <tr>\n",
       "      <th>96</th>\n",
       "      <td>98.0</td>\n",
       "      <td>-0.150779</td>\n",
       "      <td>0.927025</td>\n",
       "      <td>NaN</td>\n",
       "      <td>0.197990</td>\n",
       "    </tr>\n",
       "    <tr>\n",
       "      <th>97</th>\n",
       "      <td>99.0</td>\n",
       "      <td>-0.124506</td>\n",
       "      <td>1.018722</td>\n",
       "      <td>NaN</td>\n",
       "      <td>0.196987</td>\n",
       "    </tr>\n",
       "  </tbody>\n",
       "</table>\n",
       "<p>98 rows × 5 columns</p>\n",
       "</div>"
      ],
      "text/plain": [
       "    samples      mean       std  window  interval\n",
       "0       2.0  0.849838  0.165686     NaN  1.385929\n",
       "1       3.0 -0.271426  1.042374     NaN  1.131607\n",
       "2       4.0 -0.267419  0.785344     NaN  0.980000\n",
       "3       5.0  0.144391  0.698040     NaN  0.876539\n",
       "4       6.0 -0.020764  0.517904     NaN  0.800167\n",
       "..      ...       ...       ...     ...       ...\n",
       "93     95.0 -0.164567  0.971910     NaN  0.201092\n",
       "94     96.0 -0.185033  0.994274     NaN  0.200042\n",
       "95     97.0  0.136731  0.986433     NaN  0.199008\n",
       "96     98.0 -0.150779  0.927025     NaN  0.197990\n",
       "97     99.0 -0.124506  1.018722     NaN  0.196987\n",
       "\n",
       "[98 rows x 5 columns]"
      ]
     },
     "execution_count": 11,
     "metadata": {},
     "output_type": "execute_result"
    }
   ],
   "source": [
    "m = 0\n",
    "s = 1\n",
    "samples_df = pd.DataFrame(columns=['samples', 'mean', 'std', 'window'])\n",
    "max_samples = 100\n",
    "for i in range(2, max_samples):\n",
    "    samples = [random.normalvariate(m, s) for j in range(i)]\n",
    "    s_m = np.mean(samples)\n",
    "    s_s = np.std(samples)\n",
    "    interval = z * (s/math.sqrt(len(samples)))\n",
    "    samples_df = samples_df.append({\n",
    "        'samples':len(samples),\n",
    "        'mean':s_m,\n",
    "        'std':s_s,\n",
    "        'interval':interval\n",
    "    }, ignore_index=True)\n",
    "samples_df"
   ]
  },
  {
   "cell_type": "code",
   "execution_count": 15,
   "metadata": {
    "jupyter": {
     "source_hidden": true
    }
   },
   "outputs": [
    {
     "data": {
      "image/png": "[encoded data removed]",
      "text/plain": [
       "<Figure size 720x360 with 1 Axes>"
      ]
     },
     "metadata": {
      "needs_background": "light"
     },
     "output_type": "display_data"
    }
   ],
   "source": [
    "plt.figure(figsize=(10,5))\n",
    "plt.plot(samples_df.samples, samples_df.interval)\n",
    "plt.xticks(range(0,101,10))\n",
    "plt.xlabel('samples')\n",
    "plt.ylabel('confidence interval')\n",
    "plt.grid()"
   ]
  },
  {
   "cell_type": "code",
   "execution_count": 16,
   "metadata": {
    "jupyter": {
     "source_hidden": true
    }
   },
   "outputs": [
    {
     "data": {
      "image/png": "[encoded data removed]",
      "text/plain": [
       "<Figure size 720x360 with 1 Axes>"
      ]
     },
     "metadata": {
      "needs_background": "light"
     },
     "output_type": "display_data"
    }
   ],
   "source": [
    "plt.figure(figsize=(10,5))\n",
    "plt.plot(samples_df.samples, samples_df['mean'])\n",
    "plt.fill_between(samples_df.samples, \n",
    "                 samples_df['mean']+samples_df.interval, \n",
    "                 samples_df['mean']-samples_df.interval,\n",
    "                 color='red',\n",
    "                 alpha=0.1\n",
    "                )\n",
    "plt.xticks(range(0,101,10))\n",
    "plt.xlabel('samples')\n",
    "plt.ylabel('mean with confidence interval')\n",
    "plt.grid()"
   ]
  }
 ],
 "metadata": {
  "anaconda-cloud": {},
  "kernelspec": {
   "display_name": "Python 3",
   "language": "python",
   "name": "python3"
  },
  "language_info": {
   "codemirror_mode": {
    "name": "ipython",
    "version": 3
   },
   "file_extension": ".py",
   "mimetype": "text/x-python",
   "name": "python",
   "nbconvert_exporter": "python",
   "pygments_lexer": "ipython3",
   "version": "3.7.6"
  }
 },
 "nbformat": 4,
 "nbformat_minor": 4
}
