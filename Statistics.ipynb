{
 "cells": [
  {
   "cell_type": "markdown",
   "metadata": {
    "Collapsed": "false"
   },
   "source": [
    "# Statistics\n",
    "A collection of formulas and methods for statistical analysis."
   ]
  },
  {
   "cell_type": "markdown",
   "metadata": {
    "Collapsed": "false"
   },
   "source": [
    "## Z table\n",
    "\n",
    "Use the Z table if you know the population standard deviation. You almost never do, so this is an abreviated table. The T table below also contains Z values.\n",
    "\n",
    "| $\\%\\ Confidence$ | $Z_\\alpha$ | $Z_{\\alpha/2}$ |\n",
    "| ---- | ---- | ---- |\n",
    "| 99.9 | 3.09 | 3.29 |\n",
    "| 99.0 | 2.33 | 2.58 |\n",
    "| 0.98 |  -   | 2.33 |\n",
    "| 0.96 |  -   | 2.05 |\n",
    "| 95.0 | 1.64 | 1.96 |\n",
    "| 0.92 |  -   | 1.75 |\n",
    "| 90.0 | 1.28 | 1.64 |\n",
    "| 0.85 |  -   | 1.44 |\n",
    "| 0.80 |  -   | 1.28 |\n",
    "| 0.75 |  -   | 1.15 |\n",
    "| 0.70 |  -   | 1.04 |"
   ]
  },
  {
   "cell_type": "markdown",
   "metadata": {
    "Collapsed": "false"
   },
   "source": [
    "## T table\n",
    "\n",
    "Use the T table if you only know the sample standard deviation. In the equations that follow, you can replace the Z value with the appropriate t value.\n",
    "\n",
    "![t table](t-table.pdf)"
   ]
  },
  {
   "cell_type": "markdown",
   "metadata": {
    "Collapsed": "false"
   },
   "source": [
    "Confidence Interval\n",
    "====\n",
    "\n",
    "Given a sample of data, it is instructive to estimate the population mean and the confidence level around that mean. In particular we would like to write something like: \n",
    "\n",
    "*The population mean of the data falls between $i_1$ & $i_2$ with a confidence of 95%.*  \n",
    "\n",
    "This is easily calculated given a formula that looks like this:\n",
    "\n",
    "$$ \\mu = \\overline{x} \\pm t^* \\cdot \\frac{s}{\\sqrt{n}}$$\n",
    "\n",
    "or\n",
    "\n",
    "$$ \\mu = \\overline{x} \\pm z \\cdot \\frac{\\sigma}{\\sqrt{n}} $$  \n",
    "\n",
    "where:  \n",
    "$\\mu$ is the estimated population mean  \n",
    "$\\overline{x}$ is the sample mean  \n",
    "$t^*$ is from Students t distribution for the desired confidence level when we know the sample standard deviation ($n < 30$)  \n",
    "$s$ is sample standard deviation  \n",
    "$z$ is the z score for the desired confidence level when we know the population standard deviation ($n \\ge 30$)  \n",
    "$\\sigma$ is population standard deviation  \n",
    "$n$ is the number of samples  "
   ]
  },
  {
   "cell_type": "markdown",
   "metadata": {
    "Collapsed": "false"
   },
   "source": [
    "### Example"
   ]
  },
  {
   "cell_type": "code",
   "execution_count": 1,
   "metadata": {
    "Collapsed": "false"
   },
   "outputs": [
    {
     "name": "stdout",
     "output_type": "stream",
     "text": [
      "T: the population mean lies between 1.93 and 2.104 with 95.0% confidence.\n",
      "Z: the population mean lies between 1.934 and 2.1 with 95.0% confidence.\n"
     ]
    }
   ],
   "source": [
    "import numpy as np\n",
    "import scipy.stats as st\n",
    "\n",
    "# input parameters: change these to explore different scenarios\n",
    "n = 30\n",
    "confidence = 0.95\n",
    "\n",
    "# create some random data\n",
    "#   normal distribution, mean = 2, std = 0.2\n",
    "data = st.norm.rvs(loc=2, scale=0.2, size=n)\n",
    "\n",
    "# calculate statistics\n",
    "sampleMean = data.mean()\n",
    "sampleStandardDeviation = data.std()\n",
    "standardErrorOfMean = st.sem(data)\n",
    "\n",
    "# calculate interval\n",
    "#   use Student's t distribution\n",
    "#   use z score\n",
    "TestimatedPopulationMean = st.t.interval(   confidence, len(data)-1, loc=sampleMean, scale=standardErrorOfMean)\n",
    "ZestimatedPopulationMean = st.norm.interval(confidence,              loc=sampleMean, scale=standardErrorOfMean)\n",
    "\n",
    "# print results\n",
    "lower = round(TestimatedPopulationMean[0],3)\n",
    "upper = round(TestimatedPopulationMean[1],3)\n",
    "print(f'T: the population mean lies between {lower} and {upper} with {confidence*100}% confidence.')\n",
    "\n",
    "lower = round(ZestimatedPopulationMean[0],3)\n",
    "upper = round(ZestimatedPopulationMean[1],3)\n",
    "print(f'Z: the population mean lies between {lower} and {upper} with {confidence*100}% confidence.')\n",
    "\n",
    "# TODO: build a table of results\n",
    "#   T and Z intervals by N, from 1 to 1000"
   ]
  },
  {
   "cell_type": "code",
   "execution_count": 2,
   "metadata": {
    "Collapsed": "false"
   },
   "outputs": [
    {
     "name": "stdout",
     "output_type": "stream",
     "text": [
      "T: the population mean lies between 1.928 and 2.079 with 95.0% confidence.\n",
      "Z: the population mean lies between 1.931 and 2.076 with 95.0% confidence.\n"
     ]
    }
   ],
   "source": [
    "# same as above but without numpy\n",
    "import random\n",
    "import math\n",
    "import statistics\n",
    "\n",
    "# input parameters: change these to explore different scenarios\n",
    "n = 30\n",
    "confidence = 0.95\n",
    "\n",
    "# create some random data\n",
    "#   normal distribution, mean = 2, std = 0.2\n",
    "data = [random.normalvariate(2, 0.2) for i in range(n)]\n",
    "\n",
    "# calculate statistics\n",
    "mean = statistics.mean(data)\n",
    "std = statistics.stdev(data)\n",
    "sem = std/math.sqrt(n-1)\n",
    "\n",
    "# calculate interval\n",
    "#   use Student's t distribution\n",
    "#   use z score\n",
    "Tint = (mean - 2.042 * sem, mean + 2.042 * sem)\n",
    "Zint = (mean - 1.96 * sem, mean + 1.96 * sem)\n",
    "\n",
    "# print results\n",
    "lower = round(Tint[0],3)\n",
    "upper = round(Tint[1],3)\n",
    "print(f'T: the population mean lies between {lower} and {upper} with {confidence*100}% confidence.')\n",
    "\n",
    "lower = round(Zint[0],3)\n",
    "upper = round(Zint[1],3)\n",
    "print(f'Z: the population mean lies between {lower} and {upper} with {confidence*100}% confidence.')"
   ]
  },
  {
   "cell_type": "markdown",
   "metadata": {
    "Collapsed": "false"
   },
   "source": [
    "## Mean Confidence Interval\n",
    "This is widely used, setting Z to 1.96 for 95% confidence.\n",
    "\n",
    "$\\mu = \\bar{x} \\pm Z_{\\alpha/2} \\cdot \\frac{s}{\\sqrt{N}}$  \n",
    "\n",
    "$\\bar{x} = sample\\ average$  \n",
    "$s = sample\\ standard\\ deviation$  \n",
    "$N = number\\ of\\ observations$  "
   ]
  },
  {
   "cell_type": "markdown",
   "metadata": {
    "Collapsed": "false"
   },
   "source": [
    "## Standard Deviation Confidence Interval\n",
    "\n",
    "### Lower Limit\n",
    "$\\sigma = s\\sqrt{\\frac{N-1}{InverseChi(\\alpha/2, N-1)}}$\n",
    "\n",
    "### Upper Limit\n",
    "$\\sigma = s\\sqrt{\\frac{N-1}{InverseChi(1-(\\alpha/2), N-1)}}$\n",
    "\n",
    "$\\alpha\\ is\\ the\\ confidence$"
   ]
  },
  {
   "cell_type": "markdown",
   "metadata": {
    "Collapsed": "false"
   },
   "source": [
    "## CV Confidence Interval\n",
    "$CV \\pm Z_{\\alpha/2} \\cdot \\frac{CV}{\\sqrt{2N}}$"
   ]
  },
  {
   "cell_type": "markdown",
   "metadata": {
    "Collapsed": "false"
   },
   "source": [
    "## Sample Size\n",
    "$N = (\\frac{Z_{\\alpha/2} \\cdot s}{\\Delta})^2$  \n",
    "\n",
    "\n",
    "$N = (\\frac{1.96 \\cdot s}{\\Delta})^2$  \n",
    "\n",
    "$s = standard\\ deviation$  \n",
    "$1.96 = 95\\%\\ confidence$  \n",
    "$\\Delta = difference\\ to\\ detect$  \n",
    "\n",
    "#### Sample Size with Reliability\n",
    "$N = \\frac{\\ln (1-Confidence)}{\\ln (Reliability)}$  \n",
    "\n",
    "$Reliability = 1 - RQL$\n",
    "\n",
    "#### Reliability of a Sample Size\n",
    "$Reliability = (1-Confidence)^{\\frac{1}{N}}$  \n",
    "\n",
    "#### Examples  \n",
    "\n",
    "##### How many samples to get 95% confidence and an RQL of 0.65%?"
   ]
  },
  {
   "cell_type": "code",
   "execution_count": 3,
   "metadata": {
    "Collapsed": "false"
   },
   "outputs": [
    {
     "name": "stdout",
     "output_type": "stream",
     "text": [
      "You need 460 passing samples for 95% confidence and 99% reliability\n"
     ]
    }
   ],
   "source": [
    "import math\n",
    "\n",
    "# confidence\n",
    "c = 0.95\n",
    "\n",
    "# RQL\n",
    "rql = 0.0065\n",
    "\n",
    "# reliability\n",
    "r = 1-rql\n",
    "\n",
    "N = math.ceil(math.log(1-c)/math.log(r))\n",
    "\n",
    "print(f'You need {round(N)} passing samples for {round(c*100)}% confidence and {round(r*100)}% reliability')"
   ]
  },
  {
   "cell_type": "markdown",
   "metadata": {
    "Collapsed": "false"
   },
   "source": [
    "##### What is the reliability of 460 samples with a confidence of 95%?"
   ]
  },
  {
   "cell_type": "code",
   "execution_count": 4,
   "metadata": {
    "Collapsed": "false"
   },
   "outputs": [
    {
     "name": "stdout",
     "output_type": "stream",
     "text": [
      "With 460 passing samples you are 95% confident and 99% reliable, RQL = 0.65%\n"
     ]
    }
   ],
   "source": [
    "import math\n",
    "\n",
    "# number of samples\n",
    "N = 460\n",
    "\n",
    "# confidence\n",
    "c = 0.95\n",
    "\n",
    "r = (1-c)**(1/N)\n",
    "rql = 1-r\n",
    "\n",
    "print(f'With {round(N)} passing samples you are {round(c*100)}% confident and {round(r*100)}% reliable, RQL = {round(rql*100,2)}%')"
   ]
  },
  {
   "cell_type": "markdown",
   "metadata": {
    "Collapsed": "false"
   },
   "source": [
    "## Cpk Confidence Interval\n",
    "\n",
    "$C_{pk} \\pm Z_{\\alpha/2} \\sqrt{\\frac{1}{9N}+\\frac{C_{pk}^2}{2N-2}}$"
   ]
  },
  {
   "cell_type": "markdown",
   "metadata": {
    "Collapsed": "false"
   },
   "source": [
    "## Cpk Lower Confidence Limit\n",
    "\n",
    "$C_{pk} - Z_{\\alpha} \\sqrt{\\frac{1}{9N}+\\frac{C_{pk}^2}{2N-2}}$"
   ]
  }
 ],
 "metadata": {
  "anaconda-cloud": {},
  "kernelspec": {
   "display_name": "Python 3",
   "language": "python",
   "name": "python3"
  },
  "language_info": {
   "codemirror_mode": {
    "name": "ipython",
    "version": 3
   },
   "file_extension": ".py",
   "mimetype": "text/x-python",
   "name": "python",
   "nbconvert_exporter": "python",
   "pygments_lexer": "ipython3",
   "version": "3.7.5"
  }
 },
 "nbformat": 4,
 "nbformat_minor": 4
}
